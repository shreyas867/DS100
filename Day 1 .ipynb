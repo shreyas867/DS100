{
 "cells": [
  {
   "cell_type": "markdown",
   "id": "ce7c8c7f",
   "metadata": {},
   "source": [
    "#### 1. Anaconda installation:\n",
    "The first step is to set the environment. Jupyter Notebook is one of the best tools for data science programming.So to download jupyter notebook, we will be installing anaconda package and anaconda comes with a lots of another in built features.\n",
    "\n",
    "#### 2. Creating Virtual Environment for projects:\n",
    "Creating an environment is very important while working on a project because different projects have different requirements and dependency associated with the projects.\n",
    "\n",
    "###### Step-1 : How to check all the environment list\n",
    "            conda env list\n",
    "###### Step-2 : Create a environment for project\n",
    "            conda create <environment name> -n python==3.6 (python version)\n",
    "###### Step-3 : Activate the created environment\n",
    "            conda activate <environment name>\n",
    "###### Step-4 : Verify that the new environment was installed correctly:\n",
    "             conda env list\n",
    "Apart from this there are lot of other functionality will be there. https://docs.conda.io/projects/conda/en/latest/user-guide/tasks/manage-environments.html#creating-an-environment-with-commands is the detail about how to clone and update the existing environment"
   ]
  }
 ],
 "metadata": {
  "kernelspec": {
   "display_name": "Python 3 (ipykernel)",
   "language": "python",
   "name": "python3"
  },
  "language_info": {
   "codemirror_mode": {
    "name": "ipython",
    "version": 3
   },
   "file_extension": ".py",
   "mimetype": "text/x-python",
   "name": "python",
   "nbconvert_exporter": "python",
   "pygments_lexer": "ipython3",
   "version": "3.9.7"
  }
 },
 "nbformat": 4,
 "nbformat_minor": 5
}

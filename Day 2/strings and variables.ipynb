{
 "cells": [
  {
   "cell_type": "markdown",
   "id": "b4ad1ae5",
   "metadata": {},
   "source": [
    "# Introduction to Python"
   ]
  },
  {
   "cell_type": "markdown",
   "id": "00a1a1ba",
   "metadata": {},
   "source": [
    "1. Python is a general purpose programming language that is often applied in scripting roles.\n",
    "\n",
    "2. Python is Programming language as well as scripting language\n",
    "\n",
    "3. Python is called interpreted language\n"
   ]
  },
  {
   "cell_type": "markdown",
   "id": "159b7295",
   "metadata": {},
   "source": [
    "Python is used for Web Development, Software Development, Mathematics, System Scripting"
   ]
  },
  {
   "cell_type": "code",
   "execution_count": 2,
   "id": "5b78300a",
   "metadata": {},
   "outputs": [
    {
     "name": "stdout",
     "output_type": "stream",
     "text": [
      "Hello, World\n"
     ]
    }
   ],
   "source": [
    "print(\"Hello, World\")"
   ]
  },
  {
   "cell_type": "markdown",
   "id": "b43bc4b5",
   "metadata": {},
   "source": [
    "### Python Indentation\n",
    "\n",
    "We should have spaces at the beginning of the code line.\n",
    "In other languages we use spaces for better readability but in python Indentation is really important\n",
    "We use spaces to identify the block of code"
   ]
  },
  {
   "cell_type": "code",
   "execution_count": 5,
   "id": "4c4f1479",
   "metadata": {},
   "outputs": [
    {
     "name": "stdout",
     "output_type": "stream",
     "text": [
      "Five is greater than two!\n"
     ]
    }
   ],
   "source": [
    "if 5>2:\n",
    "    print(\"Five is greater than two!\")"
   ]
  },
  {
   "cell_type": "markdown",
   "id": "74ffbdcd",
   "metadata": {},
   "source": [
    "### Python Variables\n",
    "\n",
    "Variables are created when we assign a value to it.\n",
    "it does not need any declaration"
   ]
  },
  {
   "cell_type": "code",
   "execution_count": 7,
   "id": "a681398e",
   "metadata": {},
   "outputs": [
    {
     "name": "stdout",
     "output_type": "stream",
     "text": [
      "5\n",
      "Hello world\n"
     ]
    }
   ],
   "source": [
    "x=5\n",
    "y=\"Hello world\"\n",
    "print(x)\n",
    "print(y)"
   ]
  },
  {
   "cell_type": "markdown",
   "id": "39b8f9a1",
   "metadata": {},
   "source": [
    "### Python Comments\n",
    "\n",
    "comments start with symbol # and it will consider the rest of the line as comment.\n",
    "\n",
    "comments can be used to explain the code and make it more readable. it does not consider that line while excecution.\n"
   ]
  },
  {
   "cell_type": "code",
   "execution_count": 9,
   "id": "cb696c81",
   "metadata": {},
   "outputs": [
    {
     "name": "stdout",
     "output_type": "stream",
     "text": [
      "hello world\n",
      "single line comment\n",
      "multiline comment\n",
      "another multiline comment\n"
     ]
    }
   ],
   "source": [
    "#this is comment.\n",
    "print(\"hello world\")\n",
    "\n",
    "\n",
    "#single line comment\n",
    "print(\"single line comment\")\n",
    "\n",
    "#this is a \n",
    "#multi line comment\n",
    "print(\"multiline comment\")\n",
    "\n",
    "\n",
    "\"\"\"\n",
    "another way of multiline comment\n",
    "\n",
    "\"\"\"\n",
    "print(\"another multiline comment\")"
   ]
  },
  {
   "cell_type": "markdown",
   "id": "610b0cf7",
   "metadata": {},
   "source": [
    "Python variables are containers for storing data values"
   ]
  },
  {
   "cell_type": "markdown",
   "id": "1a6a95b9",
   "metadata": {},
   "source": [
    "### Creating Variables\n",
    "\n",
    "Python has no command for declaring the variables.\n",
    "a variable is created the moment you first assign a value to it."
   ]
  },
  {
   "cell_type": "code",
   "execution_count": 11,
   "id": "cca2bc2e",
   "metadata": {},
   "outputs": [
    {
     "name": "stdout",
     "output_type": "stream",
     "text": [
      "5\n",
      "john\n"
     ]
    }
   ],
   "source": [
    "x=5\n",
    "y=\"john\"\n",
    "print(x)\n",
    "print(y)"
   ]
  },
  {
   "cell_type": "markdown",
   "id": "aaac8126",
   "metadata": {},
   "source": [
    "Variables do not need to be declared with any particular type, and even change type after they have been set."
   ]
  },
  {
   "cell_type": "code",
   "execution_count": 13,
   "id": "52d40f7d",
   "metadata": {},
   "outputs": [
    {
     "name": "stdout",
     "output_type": "stream",
     "text": [
      "saly\n"
     ]
    }
   ],
   "source": [
    "x=4 #here it is int\n",
    "x=\"saly\" #type has been changed and here it is str\n",
    "print(x)"
   ]
  },
  {
   "cell_type": "markdown",
   "id": "f47e2e3b",
   "metadata": {},
   "source": [
    "if we want to specify the data type of variable, this can be done by casting"
   ]
  },
  {
   "cell_type": "markdown",
   "id": "4fa9f53a",
   "metadata": {},
   "source": [
    "We can get the type of data type using the type() function"
   ]
  },
  {
   "cell_type": "code",
   "execution_count": 14,
   "id": "b562f15d",
   "metadata": {},
   "outputs": [
    {
     "name": "stdout",
     "output_type": "stream",
     "text": [
      "<class 'int'>\n",
      "<class 'str'>\n"
     ]
    }
   ],
   "source": [
    "x=5\n",
    "y=\"john\"\n",
    "print(type(x))\n",
    "print(type(y))\n"
   ]
  },
  {
   "cell_type": "markdown",
   "id": "62d33c5f",
   "metadata": {},
   "source": [
    "string variables when assigning to a variable can be assigned in a single quote or a double quote\n",
    "variable names are case sensitive"
   ]
  },
  {
   "cell_type": "markdown",
   "id": "7c0c8d65",
   "metadata": {},
   "source": [
    "Variable names can have a short name or a more descriptive name. rules for python\n",
    "\n",
    "1. it must start with a letter or underscore character\n",
    "2. it cannot start with a number\n",
    "3. can contain alphanumeric\n",
    "4. case sensitive"
   ]
  },
  {
   "cell_type": "code",
   "execution_count": 15,
   "id": "86228941",
   "metadata": {},
   "outputs": [],
   "source": [
    "#legal variable names\n",
    "myval = \"sp\"\n",
    "my_val = \"sp\"\n",
    "_my_val = \"sp\"\n",
    "myVal = \"sp\"\n",
    "MYVAL = \"sp\"\n",
    "myvar2 = \"sp\""
   ]
  },
  {
   "cell_type": "code",
   "execution_count": 17,
   "id": "49e89635",
   "metadata": {},
   "outputs": [],
   "source": [
    "#illegal variable names\n",
    "#2myval = \"sp\"\n",
    "#my-val = \"sp\"\n",
    "#my val = \"sp\""
   ]
  },
  {
   "cell_type": "code",
   "execution_count": null,
   "id": "d8497605",
   "metadata": {},
   "outputs": [],
   "source": [
    "#camel case\n",
    "myValueName=\"sp\"\n",
    "#pascalcase\n",
    "MyValueName=\"sp\"\n",
    "#snakecase\n",
    "my_variable_name=\"sp\""
   ]
  },
  {
   "cell_type": "markdown",
   "id": "987a06c7",
   "metadata": {},
   "source": [
    "Assigning multiple values in one line "
   ]
  },
  {
   "cell_type": "code",
   "execution_count": 19,
   "id": "12962d94",
   "metadata": {},
   "outputs": [
    {
     "name": "stdout",
     "output_type": "stream",
     "text": [
      "sp\n",
      "shreyas\n",
      "sunku\n",
      "sp\n",
      "sp\n",
      "sp\n"
     ]
    }
   ],
   "source": [
    "x,y,z=\"sp\",\"shreyas\",\"sunku\"\n",
    "print(x)\n",
    "print(y)\n",
    "print(z)\n",
    "x=y=z=\"sp\"\n",
    "print(x)\n",
    "print(y)\n",
    "print(z)\n",
    "\n"
   ]
  },
  {
   "cell_type": "markdown",
   "id": "a69da277",
   "metadata": {},
   "source": [
    "### Unpack a Collection\n",
    "If you have a collection of values in a list, tuple etc. Python allows you extract the values into variables. This is called unpacking."
   ]
  },
  {
   "cell_type": "code",
   "execution_count": 20,
   "id": "473b5ca2",
   "metadata": {},
   "outputs": [
    {
     "name": "stdout",
     "output_type": "stream",
     "text": [
      "sp\n",
      "sunku\n",
      "shreyas\n"
     ]
    }
   ],
   "source": [
    "fruits=[\"sp\",\"sunku\",\"shreyas\"]\n",
    "x,y,z=fruits\n",
    "print(x)\n",
    "print(y)\n",
    "print(z)\n",
    "\n"
   ]
  },
  {
   "cell_type": "markdown",
   "id": "7a3b0945",
   "metadata": {},
   "source": [
    "### Output variables\n",
    "In python we use print statement to output variables\n",
    "\"+\" is used to combine text and variables\n",
    "\n"
   ]
  },
  {
   "cell_type": "code",
   "execution_count": 22,
   "id": "37b332b3",
   "metadata": {},
   "outputs": [
    {
     "name": "stdout",
     "output_type": "stream",
     "text": [
      "python is awesome\n"
     ]
    }
   ],
   "source": [
    "x=\"awesome\"\n",
    "print(\"python is \"+x)"
   ]
  },
  {
   "cell_type": "code",
   "execution_count": 25,
   "id": "1f109b04",
   "metadata": {},
   "outputs": [
    {
     "name": "stdout",
     "output_type": "stream",
     "text": [
      "awesome is awesome\n"
     ]
    }
   ],
   "source": [
    "x=\"awesome \"\n",
    "y=\"is awesome\"\n",
    "z=x+y\n",
    "print(z)"
   ]
  },
  {
   "cell_type": "markdown",
   "id": "0c340dfd",
   "metadata": {},
   "source": [
    "### Global variables\n",
    " When we create a variable outside the function it is called global variables"
   ]
  },
  {
   "cell_type": "code",
   "execution_count": 26,
   "id": "8883a2a8",
   "metadata": {},
   "outputs": [
    {
     "name": "stdout",
     "output_type": "stream",
     "text": [
      "my name is shreyas\n"
     ]
    }
   ],
   "source": [
    "x=\"shreyas\"\n",
    "\n",
    "def func():\n",
    "    print(\"my name is \"+ x)\n",
    "    \n",
    "func()\n",
    "    \n",
    "    \n",
    "    "
   ]
  },
  {
   "cell_type": "markdown",
   "id": "7b7e9b9b",
   "metadata": {},
   "source": [
    "variable inside the function is called local variable and can be used inside the function only\n"
   ]
  },
  {
   "cell_type": "code",
   "execution_count": 27,
   "id": "7ae70d1b",
   "metadata": {},
   "outputs": [
    {
     "name": "stdout",
     "output_type": "stream",
     "text": [
      "shreyas is fantastic\n",
      "shreyas is awesome\n"
     ]
    }
   ],
   "source": [
    "x = \"awesome\"\n",
    "\n",
    "def myfunc():\n",
    "  x = \"fantastic\"\n",
    "  print(\"shreyas is \" + x)\n",
    "\n",
    "myfunc()\n",
    "\n",
    "print(\"shreyas is \" + x)"
   ]
  },
  {
   "cell_type": "markdown",
   "id": "586d917b",
   "metadata": {},
   "source": [
    "if we need to use the local variable globally we can use the global keyword"
   ]
  },
  {
   "cell_type": "code",
   "execution_count": 35,
   "id": "81db8009",
   "metadata": {},
   "outputs": [
    {
     "name": "stdout",
     "output_type": "stream",
     "text": [
      "shreyas is fantastic\n",
      "shreyas is fantastic\n"
     ]
    }
   ],
   "source": [
    "x = \"awesome\"\n",
    "\n",
    "def myfunc():\n",
    "  global x \n",
    "  x= \"fantastic\"\n",
    "  print(\"shreyas is \" + x)\n",
    "\n",
    "myfunc()\n",
    "\n",
    "print(\"shreyas is \" + x)"
   ]
  },
  {
   "cell_type": "code",
   "execution_count": 38,
   "id": "d2a57cf9",
   "metadata": {},
   "outputs": [
    {
     "name": "stdout",
     "output_type": "stream",
     "text": [
      "volvo\n",
      "50\n",
      "15\n",
      "15\n",
      "John\n",
      "fantastic\n"
     ]
    }
   ],
   "source": [
    "carname=\"volvo\"\n",
    "print(carname)\n",
    "x=50\n",
    "print(x)\n",
    "x=5\n",
    "y=10\n",
    "print(x+y)\n",
    "z=x+y\n",
    "print(z)\n",
    "myfirst_name = \"John\"\n",
    "print(myfirst_name)\n",
    "x=y=z=\"sp\"\n",
    "def myfunc():\n",
    "  global x\n",
    "  x = \"fantastic\"\n",
    "  print(x)\n",
    "\n",
    "myfunc()"
   ]
  },
  {
   "cell_type": "markdown",
   "id": "631850aa",
   "metadata": {},
   "source": [
    "Strings in python is surrounded by single or double quotation marks\n",
    "'hello' is same as \"hello\"\n",
    "we can display string literal using the print function"
   ]
  },
  {
   "cell_type": "code",
   "execution_count": 39,
   "id": "8c0f7917",
   "metadata": {},
   "outputs": [
    {
     "name": "stdout",
     "output_type": "stream",
     "text": [
      "hello\n",
      "hello\n"
     ]
    }
   ],
   "source": [
    "print('hello')\n",
    "print(\"hello\")"
   ]
  },
  {
   "cell_type": "code",
   "execution_count": 42,
   "id": "fa7aaab9",
   "metadata": {},
   "outputs": [
    {
     "name": "stdout",
     "output_type": "stream",
     "text": [
      "hello\n",
      "hello this is a \n",
      "multiline string\n"
     ]
    }
   ],
   "source": [
    "#assigning values to a variable\n",
    "\n",
    "a=\"hello\"\n",
    "print(a)\n",
    "\n",
    "#multiline string to a variable\n",
    "a=\"\"\"hello this is a \n",
    "multiline string\"\"\"\n",
    "print(a)"
   ]
  },
  {
   "cell_type": "code",
   "execution_count": 43,
   "id": "e80b68ae",
   "metadata": {},
   "outputs": [
    {
     "name": "stdout",
     "output_type": "stream",
     "text": [
      "l\n"
     ]
    }
   ],
   "source": [
    "#string as arrays we can print specific characters as shown below\n",
    "a=\"hello world\"\n",
    "print(a[2])"
   ]
  },
  {
   "cell_type": "code",
   "execution_count": 44,
   "id": "e5aab76a",
   "metadata": {},
   "outputs": [
    {
     "name": "stdout",
     "output_type": "stream",
     "text": [
      "b\n",
      "a\n",
      "n\n",
      "a\n",
      "n\n",
      "a\n"
     ]
    }
   ],
   "source": [
    "#looping throught the strings\n",
    "for x in \"banana\":\n",
    "    print(x)"
   ]
  },
  {
   "cell_type": "code",
   "execution_count": 45,
   "id": "25e04148",
   "metadata": {},
   "outputs": [
    {
     "name": "stdout",
     "output_type": "stream",
     "text": [
      "7\n"
     ]
    }
   ],
   "source": [
    "a=\"shreyas\"\n",
    "print(len(a))"
   ]
  },
  {
   "cell_type": "code",
   "execution_count": 46,
   "id": "21278efc",
   "metadata": {},
   "outputs": [
    {
     "name": "stdout",
     "output_type": "stream",
     "text": [
      "True\n"
     ]
    }
   ],
   "source": [
    "#check if particular string literal is present using in\n",
    "txt=\"my name is shreyas\"\n",
    "print(\"shreyas\" in txt)"
   ]
  },
  {
   "cell_type": "code",
   "execution_count": 47,
   "id": "707efb57",
   "metadata": {},
   "outputs": [
    {
     "name": "stdout",
     "output_type": "stream",
     "text": [
      "yes\n"
     ]
    }
   ],
   "source": [
    "#same can be done using the if condition\n",
    "txt=\"my name is shreyas\"\n",
    "if \"shreyas\" in txt:\n",
    "    print(\"yes\")"
   ]
  },
  {
   "cell_type": "code",
   "execution_count": 48,
   "id": "d7dc991c",
   "metadata": {},
   "outputs": [
    {
     "name": "stdout",
     "output_type": "stream",
     "text": [
      "True\n"
     ]
    }
   ],
   "source": [
    "#check if particular string literal is not present using not in\n",
    "txt=\"my name is shreyas\"\n",
    "print(\"if\" not in txt)\n"
   ]
  },
  {
   "cell_type": "code",
   "execution_count": 49,
   "id": "aca2b6b2",
   "metadata": {},
   "outputs": [
    {
     "name": "stdout",
     "output_type": "stream",
     "text": [
      "no\n"
     ]
    }
   ],
   "source": [
    "txt=\"my name is shreyas\"\n",
    "if \"if\" not in txt:\n",
    "    print(\"no\")"
   ]
  },
  {
   "cell_type": "code",
   "execution_count": 50,
   "id": "f7464159",
   "metadata": {},
   "outputs": [
    {
     "name": "stdout",
     "output_type": "stream",
     "text": [
      "ll\n"
     ]
    }
   ],
   "source": [
    "#slicing to return the range of characters\n",
    "\n",
    "x=\"hello world\"\n",
    "print(x[2:4])"
   ]
  },
  {
   "cell_type": "code",
   "execution_count": 52,
   "id": "daed2fb3",
   "metadata": {},
   "outputs": [
    {
     "name": "stdout",
     "output_type": "stream",
     "text": [
      "hel\n"
     ]
    }
   ],
   "source": [
    "#slicing from start\n",
    "x=\"hello world\"\n",
    "print(x[:3])"
   ]
  },
  {
   "cell_type": "code",
   "execution_count": 53,
   "id": "956c30ab",
   "metadata": {},
   "outputs": [
    {
     "name": "stdout",
     "output_type": "stream",
     "text": [
      "lo world\n"
     ]
    }
   ],
   "source": [
    "#slicing from end\n",
    "x=\"hello world\"\n",
    "print(x[3:])"
   ]
  },
  {
   "cell_type": "code",
   "execution_count": 54,
   "id": "0d8f7e54",
   "metadata": {},
   "outputs": [
    {
     "name": "stdout",
     "output_type": "stream",
     "text": [
      "wor\n"
     ]
    }
   ],
   "source": [
    "#negative indexing\n",
    "x=\"hello world\"\n",
    "print(x[-5:-2])"
   ]
  },
  {
   "cell_type": "code",
   "execution_count": 63,
   "id": "589b252c",
   "metadata": {},
   "outputs": [
    {
     "name": "stdout",
     "output_type": "stream",
     "text": [
      "HELLO WORLD\n"
     ]
    }
   ],
   "source": [
    "#modification of string\n",
    "a=\"hello world\"\n",
    "print(a.upper())"
   ]
  },
  {
   "cell_type": "code",
   "execution_count": 58,
   "id": "4ac8e5b1",
   "metadata": {},
   "outputs": [
    {
     "name": "stdout",
     "output_type": "stream",
     "text": [
      "hello world\n"
     ]
    }
   ],
   "source": [
    "a=\"HELLO WORLD\"\n",
    "print(a.lower())"
   ]
  },
  {
   "cell_type": "code",
   "execution_count": 65,
   "id": "0ba3d073",
   "metadata": {},
   "outputs": [
    {
     "name": "stdout",
     "output_type": "stream",
     "text": [
      "hello world\n"
     ]
    }
   ],
   "source": [
    "a=\" hello world \"\n",
    "print(a.strip())"
   ]
  },
  {
   "cell_type": "code",
   "execution_count": 67,
   "id": "287f0543",
   "metadata": {},
   "outputs": [
    {
     "name": "stdout",
     "output_type": "stream",
     "text": [
      "jello world\n"
     ]
    }
   ],
   "source": [
    "a=\"hello world\"\n",
    "print(a.replace(\"h\",\"j\"))"
   ]
  },
  {
   "cell_type": "code",
   "execution_count": 68,
   "id": "bd2d7d37",
   "metadata": {},
   "outputs": [
    {
     "name": "stdout",
     "output_type": "stream",
     "text": [
      "['hello', 'world']\n"
     ]
    }
   ],
   "source": [
    "a=\"hello,world\"\n",
    "print(a.split(\",\"))"
   ]
  },
  {
   "cell_type": "code",
   "execution_count": 70,
   "id": "6ca2d011",
   "metadata": {},
   "outputs": [
    {
     "name": "stdout",
     "output_type": "stream",
     "text": [
      "my age is 56\n"
     ]
    }
   ],
   "source": [
    "#add number to a string\n",
    "a=56\n",
    "txt=\"my age is {}\"\n",
    "print(txt.format(a))"
   ]
  },
  {
   "cell_type": "code",
   "execution_count": 71,
   "id": "13dd7d46",
   "metadata": {},
   "outputs": [
    {
     "name": "stdout",
     "output_type": "stream",
     "text": [
      "a age is 56 b age is 34 c age is 43\n"
     ]
    }
   ],
   "source": [
    "a=56\n",
    "b=34\n",
    "c=43\n",
    "txt=\"a age is {} b age is {} c age is {}\"\n",
    "print(txt.format(a,b,c))"
   ]
  },
  {
   "cell_type": "code",
   "execution_count": 72,
   "id": "9d0e1252",
   "metadata": {},
   "outputs": [
    {
     "name": "stdout",
     "output_type": "stream",
     "text": [
      "I want to pay 49.95 dollars for 3 pieces of item 567.\n"
     ]
    }
   ],
   "source": [
    "quantity = 3\n",
    "itemno = 567\n",
    "price = 49.95\n",
    "myorder = \"I want to pay {2} dollars for {0} pieces of item {1}.\"\n",
    "print(myorder.format(quantity, itemno, price))"
   ]
  },
  {
   "cell_type": "code",
   "execution_count": 74,
   "id": "b70548e0",
   "metadata": {},
   "outputs": [
    {
     "name": "stdout",
     "output_type": "stream",
     "text": [
      "We are the so-called \"Vikings\" from the north.\n"
     ]
    }
   ],
   "source": [
    "#he escape character allows you to use double quotes when you normally would not be allowed:\n",
    "txt = \"We are the so-called \\\"Vikings\\\" from the north.\"\n",
    "print(txt)"
   ]
  },
  {
   "cell_type": "code",
   "execution_count": 73,
   "id": "70055876",
   "metadata": {},
   "outputs": [
    {
     "name": "stdout",
     "output_type": "stream",
     "text": [
      "hello world\n"
     ]
    }
   ],
   "source": [
    "x=\"hello world\"\n",
    "print(x)"
   ]
  },
  {
   "cell_type": "code",
   "execution_count": 75,
   "id": "981ff8c7",
   "metadata": {},
   "outputs": [
    {
     "name": "stdout",
     "output_type": "stream",
     "text": [
      "h\n"
     ]
    }
   ],
   "source": [
    "txt=\"hello world\"\n",
    "x=txt[0]\n",
    "print(x)"
   ]
  },
  {
   "cell_type": "code",
   "execution_count": 76,
   "id": "b2719775",
   "metadata": {},
   "outputs": [
    {
     "name": "stdout",
     "output_type": "stream",
     "text": [
      "ll\n"
     ]
    }
   ],
   "source": [
    "txt=\"hello world\"\n",
    "x=txt[2:4]\n",
    "print(x)"
   ]
  },
  {
   "cell_type": "code",
   "execution_count": 82,
   "id": "3940fceb",
   "metadata": {},
   "outputs": [
    {
     "name": "stdout",
     "output_type": "stream",
     "text": [
      "7\n",
      "7.0\n"
     ]
    }
   ],
   "source": [
    "a=7\n",
    "print(a)\n",
    "b=7.0\n",
    "print(b)\n"
   ]
  }
 ],
 "metadata": {
  "kernelspec": {
   "display_name": "Python 3 (ipykernel)",
   "language": "python",
   "name": "python3"
  },
  "language_info": {
   "codemirror_mode": {
    "name": "ipython",
    "version": 3
   },
   "file_extension": ".py",
   "mimetype": "text/x-python",
   "name": "python",
   "nbconvert_exporter": "python",
   "pygments_lexer": "ipython3",
   "version": "3.9.7"
  }
 },
 "nbformat": 4,
 "nbformat_minor": 5
}
